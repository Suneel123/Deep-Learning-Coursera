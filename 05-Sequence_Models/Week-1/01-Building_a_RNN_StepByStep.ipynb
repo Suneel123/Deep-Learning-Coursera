{
 "cells": [
  {
   "cell_type": "markdown",
   "metadata": {},
   "source": [
    "# Building your Recurrent Neural Network - Step by Step\n",
    "\n",
    "Welcome to Course 5's first assignment! In this assignment, you will implement your first Recurrent Neural Network in numpy.\n",
    "\n",
    "Recurrent Neural Networks (RNN) are very effective for Natural Language Processing (NLP) and other sequence tasks because they have the \"memory\". They can read inputs $x^{<t>}$ (such as words) on at a time and remember some information through the hidden layer activations that get passed from one-time step to the next. This allows uni-directional RNN to take information from the past and to process later inputs. A bi-directional RNN can take the context from both past and future. \n",
    "\n",
    "**Notation**:\n",
    "+ Superscript $[l]$ denotes an object associated with the $l^{th}$ layer.\n",
    "    + Eg: $a^{[4]}$ is the $4^{th}$ layer activation. $W^{[5]}$ and $b^{[5]}$ are $5^{th}$ layer parameters.\n",
    "+ Superscript $(i)$ denotes an object associated with the $i^{th}$ example.\n",
    "    + Eg: $x^{(i)}$ is the $i^{th}$ training example.\n",
    "+ Superscript $<t>$ denotes an object at the $t^{th}$ time-step.\n",
    "    + Eg: $x^{<t>}$ is the input $x$ at the $t^{th}$ time-step. $x^{(i)<t>}$ is the input at $t^{th}$ time-step of example $i$.\n",
    "+ Lowerscript $i$ denotes the $i^{th}$ entry of the activations in the layer $l$.\n",
    "    + Eg: $a_{i}^{[l]}$ denotes the $i^{th}$ entry of the activations in layer $l$."
   ]
  },
  {
   "cell_type": "code",
   "execution_count": 1,
   "metadata": {},
   "outputs": [],
   "source": [
    "import numpy as np"
   ]
  },
  {
   "cell_type": "markdown",
   "metadata": {},
   "source": [
    "## 1. Forward Propagation for the Basic Recurrent Neural Network\n",
    "\n",
    "Later this week, you will generate music using an RNN. The basic RNN that you will implement has the structure below. In this example, $T_x = T_y$. \n",
    "\n",
    "<img src=\"../images/RNN.png\" style=\"width:500;height:300px;\">\n",
    "<caption><center> **Figure 1**: Basic RNN model </center></caption>"
   ]
  },
  {
   "cell_type": "code",
   "execution_count": 8,
   "metadata": {},
   "outputs": [],
   "source": [
    "def softmax(x):\n",
    "    e_x = np.exp(x - np.max(x))\n",
    "    return e_x / e_x.sum(axis=0)\n",
    "\n",
    "def sigmoid(x):\n",
    "    return 1. / (1 + np.exp(-x))"
   ]
  },
  {
   "cell_type": "markdown",
   "metadata": {},
   "source": [
    "Here is how you can implement an RNN.\n",
    "\n",
    "**Steps**:\n",
    "1. Implement the calculations needed for one time-step of the RNN.\n",
    "2. Implement a loop over $T_x$ time-steps in-order to process all the inputs, one at a time.\n",
    "\n",
    "Let's go\n",
    "\n",
    "### 1.1. RNN cell\n",
    "A Recurrent neural network can be seen as the repetition of a single cell. We will first implement the computations of the single time-step. The following figure describes the operations for a single time-step of an RNN cell.\n",
    "\n",
    "<img src=\"../images/rnn_step_forward.png\" style=\"width:700px;height:300px;\">\n",
    "<caption><center> **Figure 2**: Basic RNN cell. Takes as input $x^{\\langle t \\rangle}$ (current input) and $a^{\\langle t - 1\\rangle}$ (previous hidden state containing information from the past), and outputs $a^{\\langle t \\rangle}$ which is given to the next RNN cell and also used to predict $y^{\\langle t \\rangle}$ </center></caption>\n",
    "\n",
    "**Exercise**: Implement the RNN-cell described in figure-2\n",
    "1. Compute the hidden state with $\\text{tanh}$ activation: $a^{\\langle t \\rangle} = \\text{tanh}(W_{ax}x^{\\langle t \\rangle} +  W_{aa}a^{\\langle t-1 \\rangle} + b_{a})$ \n",
    "2. Using the new hidden state $a^{\\langle t \\rangle}$, compute the prediction $\\hat{y}^{\\langle t \\rangle} = \\text{softmax}(W_{ya}a^{\\langle t \\rangle} + b_{y})$\n",
    "3. Store $(a^{\\langle t \\rangle}, a^{\\langle t-1 \\rangle}, x^{\\langle t \\rangle}, \\text{parameters})$ in cache.\n",
    "4. Return $a^{\\langle t \\rangle}, y^{\\langle t \\rangle}$ and cache\n",
    "\n",
    "We will vectorize over $m$ examples. Thus, $x^{\\langle t \\rangle}$ will have dimension $(n_x, m)$ and $a^{\\langle t \\rangle}$ will have dimension $(n_a, m)$."
   ]
  },
  {
   "cell_type": "code",
   "execution_count": 3,
   "metadata": {},
   "outputs": [],
   "source": [
    "def rnn_cell_forward(xt, a_prev, parameters):\n",
    "    \"\"\"\n",
    "    Implements a single step of a RNN cell as described in Figure-2\n",
    "    \n",
    "    Arguments:\n",
    "    ----------\n",
    "    xt: np.array - (n_x, m), input data at timestep 't'\n",
    "    a_prev: np.array - (n_a, m), hidden state at timestep 't-1'\n",
    "    parameters: dict, \n",
    "                Wax: np.array - (n_a, n_x), weight matrix multiplying the input\n",
    "                Waa: np.array - (n_a, n_a), weight matrix multiplying the hidden state\n",
    "                Wya: np.array - (n_y, n_a), weight matrix relating the hidden state to output\n",
    "                ba: np.array - (n_a, 1), bias\n",
    "                by: np.array - (n_y, 1), bias relating the hidden-state to the output\n",
    "    Returns:\n",
    "    --------\n",
    "    a_next: np.array - (n_a, m), next hidden state\n",
    "    yt_pred: np.array - (n_y, m), prediction at timestep 't'\n",
    "    cache: tuple - (a_next, a_prev, xt, parameters), values needed for the backward pass\n",
    "    \"\"\"\n",
    "    # Retrieve parameters from \"parameters\"\n",
    "    Wax = parameters['Wax']\n",
    "    Waa = parameters['Waa']\n",
    "    Wya = parameters['Wya']\n",
    "    ba = parameters['ba']\n",
    "    by = parameters['by']\n",
    "    \n",
    "    # compute next activation state\n",
    "    a_next = np.tanh(np.dot(Wax, xt) + np.dot(Waa, a_prev) + ba)\n",
    "    # compute output of the current cell\n",
    "    yt_pred = softmax(np.dot(Wya, a_next) + by)\n",
    "    # store values you need for backward propagation in cache\n",
    "    cache = (a_next, a_prev, xt, parameters)\n",
    "    \n",
    "    return a_next, yt_pred, cache"
   ]
  },
  {
   "cell_type": "code",
   "execution_count": 4,
   "metadata": {},
   "outputs": [
    {
     "name": "stdout",
     "output_type": "stream",
     "text": [
      "a_next[4] =  [ 0.59584544  0.18141802  0.61311866  0.99808218  0.85016201  0.99980978\n",
      " -0.18887155  0.99815551  0.6531151   0.82872037]\n",
      "a_next.shape =  (5, 10)\n",
      "yt_pred[1] = [0.9888161  0.01682021 0.21140899 0.36817467 0.98988387 0.88945212\n",
      " 0.36920224 0.9966312  0.9982559  0.17746526]\n",
      "yt_pred.shape =  (2, 10)\n"
     ]
    }
   ],
   "source": [
    "np.random.seed(1)\n",
    "xt = np.random.randn(3,10)\n",
    "a_prev = np.random.randn(5,10)\n",
    "Waa = np.random.randn(5,5)\n",
    "Wax = np.random.randn(5,3)\n",
    "Wya = np.random.randn(2,5)\n",
    "ba = np.random.randn(5,1)\n",
    "by = np.random.randn(2,1)\n",
    "parameters = {\"Waa\": Waa, \"Wax\": Wax, \"Wya\": Wya, \"ba\": ba, \"by\": by}\n",
    "\n",
    "a_next, yt_pred, cache = rnn_cell_forward(xt, a_prev, parameters)\n",
    "print(\"a_next[4] = \", a_next[4])\n",
    "print(\"a_next.shape = \", a_next.shape)\n",
    "print(\"yt_pred[1] =\", yt_pred[1])\n",
    "print(\"yt_pred.shape = \", yt_pred.shape)"
   ]
  },
  {
   "cell_type": "markdown",
   "metadata": {},
   "source": [
    "### 1.2. RNN Forward Pass\n",
    "\n",
    "You can see an RNN as the repetition of the cell you've just built. If your input sequence of data is carried over 10 time steps, then you will copy the RNN cell 10 times. Each cell takes as input the hidden state from the previous cell ($a^{\\langle t-1 \\rangle}$) and the current time-step's input data ($x^{\\langle t \\rangle}$). It outputs a hidden state ($a^{\\langle t \\rangle}$) and a prediction ($y^{\\langle t \\rangle}$) for this time-step.\n",
    "\n",
    "<img src=\"../images/rnn1.png\" style=\"width:800px;height:300px;\">\n",
    "<caption><center> **Figure 3**: Basic RNN. The input sequence $x = (x^{\\langle 1 \\rangle}, x^{\\langle 2 \\rangle}, ..., x^{\\langle T_x \\rangle})$  is carried over $T_x$ time steps. The network outputs $y = (y^{\\langle 1 \\rangle}, y^{\\langle 2 \\rangle}, ..., y^{\\langle T_x \\rangle})$. </center></caption>\n",
    "\n",
    "\n",
    "\n",
    "**Exercise**: Code the forward propagation of the RNN described in Figure (3).\n",
    "\n",
    "**Instructions**:\n",
    "1. Create a vector of zeros ($a$) that will store all the hidden states computed by the RNN.\n",
    "2. Initialize the \"next\" hidden state as $a_0$ (initial hidden state).\n",
    "3. Start looping over each time step, your incremental index is $t$ :\n",
    "    - Update the \"next\" hidden state and the cache by running `rnn_cell_forward`\n",
    "    - Store the \"next\" hidden state in $a$ ($t^{th}$ position) \n",
    "    - Store the prediction in y\n",
    "    - Add the cache to the list of caches\n",
    "4. Return $a$, $y$ and caches"
   ]
  },
  {
   "cell_type": "code",
   "execution_count": 5,
   "metadata": {},
   "outputs": [],
   "source": [
    "def rnn_forward(x, a0, parameters):\n",
    "    \"\"\"\n",
    "    Implement the forward propagation of the recurrent neural network described in figure-3.\n",
    "    \n",
    "    Arguments:\n",
    "    ----------\n",
    "    x: np.array - (n_x, m, T_x), input data for every timestep.\n",
    "    a0: np.array - (n_a, m), initial hidden state\n",
    "    paramters: dict,\n",
    "                Waa: np.array - (n_a, n_a), weight matrix multiplying the hidden-state\n",
    "                Wax: np.array - (n_a, n_x), weight matrix multiplying the input\n",
    "                Wya: np.array - (n_y, n_a), weight matrix relating the hidden-state to output\n",
    "                ba: np.array - (n_a, 1), bias\n",
    "                by: np.array - (n_y, 1), bias\n",
    "    Returns:\n",
    "    --------\n",
    "    a: np.array - (n_a, m, T_x), hidden states for every timestep\n",
    "    y_pred: np.array - (n_y, m, T_x), predictions for every timestep\n",
    "    caches: tuple, values needed for backward pass\n",
    "    \"\"\"\n",
    "    caches = []\n",
    "    \n",
    "    # retrieves dimensions from shapes of x and Wya\n",
    "    n_x, m, T_x = x.shape\n",
    "    n_y, n_a = parameters['Wya'].shape\n",
    "    \n",
    "    # initialize a and y with zeros\n",
    "    a = np.zeros((n_a, m, T_x))\n",
    "    y_pred = np.zeros((n_y, m, T_x))\n",
    "    \n",
    "    # initialize a_next\n",
    "    a_next = a0\n",
    "    \n",
    "    for t in range(T_x):\n",
    "        # Update the next hidden state, compute the prediction, get the cache\n",
    "        a_next, yt_pred, cache = rnn_cell_forward(x[:, :, t], a_next, parameters)\n",
    "        # save the value for new next hidden state in a\n",
    "        a[:, :, t] = a_next\n",
    "        # save the value of the prediction in y\n",
    "        y_pred[:, :, t] = yt_pred\n",
    "        # append cache to caches\n",
    "        caches.append(cache)\n",
    "        \n",
    "    # store values needed for backward propagation in cache\n",
    "    caches = (caches, x)\n",
    "    return a, y_pred, caches "
   ]
  },
  {
   "cell_type": "code",
   "execution_count": 6,
   "metadata": {},
   "outputs": [
    {
     "name": "stdout",
     "output_type": "stream",
     "text": [
      "a[4][1] =  [-0.99999375  0.77911235 -0.99861469 -0.99833267]\n",
      "a.shape =  (5, 10, 4)\n",
      "y_pred[1][3] = [0.79560373 0.86224861 0.11118257 0.81515947]\n",
      "y_pred.shape =  (2, 10, 4)\n",
      "caches[1][1][3] = [-1.1425182  -0.34934272 -0.20889423  0.58662319]\n",
      "len(caches) =  2\n"
     ]
    }
   ],
   "source": [
    "np.random.seed(1)\n",
    "x = np.random.randn(3,10,4)\n",
    "a0 = np.random.randn(5,10)\n",
    "Waa = np.random.randn(5,5)\n",
    "Wax = np.random.randn(5,3)\n",
    "Wya = np.random.randn(2,5)\n",
    "ba = np.random.randn(5,1)\n",
    "by = np.random.randn(2,1)\n",
    "parameters = {\"Waa\": Waa, \"Wax\": Wax, \"Wya\": Wya, \"ba\": ba, \"by\": by}\n",
    "\n",
    "a, y_pred, caches = rnn_forward(x, a0, parameters)\n",
    "print(\"a[4][1] = \", a[4][1])\n",
    "print(\"a.shape = \", a.shape)\n",
    "print(\"y_pred[1][3] =\", y_pred[1][3])\n",
    "print(\"y_pred.shape = \", y_pred.shape)\n",
    "print(\"caches[1][1][3] =\", caches[1][1][3])\n",
    "print(\"len(caches) = \", len(caches))"
   ]
  },
  {
   "cell_type": "markdown",
   "metadata": {},
   "source": [
    "Congratulations! You've successfully built the forward propagation of a recurrent neural network from scratch. This will work well enough for some applications, but it suffers from vanishing gradient problems. So it works best when each output $y^{\\langle t \\rangle}$ can be estimated using mainly \"local\" context (meaning information from inputs $x^{\\langle t' \\rangle}$ where $t'$ is not too far from $t$). \n",
    "\n",
    "In the next part, you will build a more complex LSTM model, which is better at addressing vanishing gradients. The LSTM will be better able to remember a piece of information and keep it saved for many timesteps. "
   ]
  },
  {
   "cell_type": "markdown",
   "metadata": {},
   "source": [
    "## 2. Long Short-Term Memory (LSTM) network\n",
    "\n",
    "This follow up figure shows the operations of an LSTM-cell.\n",
    "\n",
    "<img src=\"../images/LSTM.png\" style=\"width:500;height:400px;\">\n",
    "<caption><center> **Figure 4**: LSTM-cell. This tracks and updates a \"cell state\" or memory variable $c^{\\langle t \\rangle}$ at every time-step, which can be different from $a^{\\langle t \\rangle}$. </center></caption>"
   ]
  },
  {
   "cell_type": "markdown",
   "metadata": {},
   "source": [
    "Similar to the RNN example, you will start by implementing the LSTM cell for a single time-step. Then you can iteratively call it from inside a for-loop to have it process an input with $T_x$ time-steps.\n",
    "\n",
    "## About the gates\n",
    "+ **Forget gate**: <br/> \n",
    "For the sake of this illustration, lets assume we are reading words in piece of text, and want to use an LSTM to keep track of grammatical structures, such as subject is singular/plural. If the subject changes from singular word to a plural word, we need to find a way to get rid of our previously stored memory value of the singular/plural state. In an LSTM, the forget gate lets us do this.<br/><br/>\n",
    "$$\\Gamma_{f}^{\\langle t \\rangle} = \\sigma(W_{f}[a^{\\langle t-1 \\rangle}, x^{\\langle t \\rangle}] + b_{f})$$<br>\n",
    "Here $W_{f}$ are the weights that governs the forget gate's behavior. We concatenate $[a^{\\langle t-1 \\rangle}, x^{\\langle t \\rangle}]$ and multiply by $W_{f}$. The equation above results in a vector $\\Gamma_{f}^{\\langle t \\rangle}$ with the values between 0 and 1. This forget gate vector is multiplied element-wise by the previous cell state $c^{\\langle t-1 \\rangle}$. So if one of the values of this forget gate $\\Gamma_{f}^{\\langle t \\rangle}$ is zero (or close to zero) that means the LSTM should remove that piece of information (eg. the singular subject) in the corresponding component of $c^{\\langle t-1 \\rangle}$. If one of the values is 1, then it will keep the information.\n",
    "\n",
    "\n",
    "+ **Update gate**:<br/>\n",
    "Once we forget that the subject being discussed is singular, we need to find a way to update it to reflect the new subject is now plural. Here is the formula for the update gate.<br><br> \n",
    "$$\\Gamma_{u}^{\\langle t \\rangle} = \\sigma(W_{u}[a^{\\langle t-1 \\rangle}, x^{\\langle t \\rangle}] + b_{u})$$<br>\n",
    "Similar to forget gate, update gate is vector of values between 0 and 1. This will be multiplied element-wise with $\\tilde{c}^{\\langle t \\rangle}$, inorder to compute $c^{\\langle t \\rangle}$\n",
    "\n",
    "\n",
    "+ **Updating the cell**:<br/>\n",
    "To update the new subject we need to create a new vector of numbers that we can add to the previous cell state. The equation we use is:<br><br>\n",
    "$$\\tilde{c}^{\\langle t \\rangle} = \\tanh(W_{c}[a^{\\langle t-1 \\rangle}, x^{\\langle t \\rangle}] + b_{c})$$<br>\n",
    "Finally, the new cell state is:<br><br>\n",
    "$$c^{\\langle t \\rangle} = \\Gamma_{f}^{\\langle t \\rangle} \\odot c^{\\langle t-1 \\rangle} + \\Gamma_{u}^{\\langle t \\rangle} \\odot \\tilde{c}^{\\langle t \\rangle}$$<br>\n",
    "\n",
    "\n",
    "+ **Output gate**:<br/>\n",
    "To decide which ouputs we will use, we will use the following formula:<br><br>\n",
    "$$\\Gamma_{o}^{\\langle t \\rangle} = \\sigma(W_{o}[a^{\\langle t-1 \\rangle}, x^{\\langle t \\rangle}] + b_{o})$$<br>\n",
    "$$a^{\\langle t \\rangle} = \\Gamma_{o}^{\\langle t \\rangle} \\odot \\tanh(c^{\\langle t \\rangle})$$<br>\n",
    "First you decide what to output using sigmoid at the ouput gate and then you multiply that by $\\tanh$ of the current cell state"
   ]
  },
  {
   "cell_type": "markdown",
   "metadata": {},
   "source": [
    "### 2.1. LSTM cell\n",
    "\n",
    "**Exercise**: Implement the LSTM cell described in the Figure (3).\n",
    "\n",
    "**Instructions**:\n",
    "1. Concatenate $a^{\\langle t-1 \\rangle}$ and $x^{\\langle t \\rangle}$ in a single matrix: $concat = \\begin{bmatrix} a^{\\langle t-1 \\rangle} \\\\ x^{\\langle t \\rangle} \\end{bmatrix}$\n",
    "2. Compute all the formulas"
   ]
  },
  {
   "cell_type": "code",
   "execution_count": 9,
   "metadata": {},
   "outputs": [],
   "source": [
    "def lstm_cell_forward(xt, a_prev, c_prev, parameters):\n",
    "    \"\"\"\n",
    "    Implement a single forward step of the LSTM-cell as described in figure\n",
    "    \n",
    "    Argumets:\n",
    "    ---------\n",
    "    xt: np.array - (n_x, m), input data at time-step 't'\n",
    "    a_prev: np.array - (n_a, m), hidden state at time-step 't-1' \n",
    "    c_prev: np.array - (n_a, m), memory state at time-step 't-1' \n",
    "    parameters: dict,\n",
    "                Wf: np.array - (n_a, n_a + n_x), Weight matrix of the forget gate  \n",
    "                bf: np.array - (n_a, 1), bias of the forget gate\n",
    "                Wu: np.array - (n_a, n_a + n_x), weight matrix of the update gate \n",
    "                bu: np.array - (n_a, 1), bias of the update gate\n",
    "                Wc: np.array - (n_a, n_a + n_x), weight matrix of the first 'tanh'\n",
    "                bc: np.array - (n_a, 1), bias of the first 'tanh'\n",
    "                Wo: np.array - (n_a, n_a + n_x), weight matrix of the output gate\n",
    "                bo: np.array - (n_a, 1), bias of the output gate\n",
    "                Wy: np.array - (n_y, n_a), weight matrix relating the hidden-state to the output\n",
    "                by: np.array - (n_y, 1), bias relating the hidden-state to the ouput\n",
    "    Returns:\n",
    "    --------\n",
    "    a_next: np.array - (n_a, n_m), next hidden state\n",
    "    c_next: np.array - (n_a, n_m), next memory state\n",
    "    yt_pred: np.array - (n_y, m), prediction at time-step 't'\n",
    "    cache: tuple, values needed for backward pass, contains (a_next, c_next, a_prev, c_prev, xt, parameters)\n",
    "                \n",
    "    Note: ft/ut/ot stand stand for forget/update/output gates, cct stands for the candidate value (c tilde), \n",
    "          c stands for the memory value.\n",
    "    \"\"\"\n",
    "    # retrieve parameters from parameters\n",
    "    Wf = parameters['Wf']\n",
    "    bf = parameters['bf']\n",
    "    Wu = parameters['Wu']\n",
    "    bu = parameters['bu']\n",
    "    Wc = parameters['Wc']\n",
    "    bc = parameters['bc']\n",
    "    Wo = parameters['Wo']\n",
    "    bo = parameters['bo']\n",
    "    Wy = parameters['Wy']\n",
    "    by = parameters['by']\n",
    "    \n",
    "    # retrieve dimensions from shapes of xt and Wy\n",
    "    n_x, m = xt.shape\n",
    "    n_y, n_a = Wy.shape\n",
    "    \n",
    "    # concatenate a_prev and xt\n",
    "    concat = np.zeros((n_a + n_x, m))\n",
    "    concat[:n_a, :] = a_prev\n",
    "    concat[n_a:, :] = xt\n",
    "    \n",
    "    # compute values for ft, ut, cct, c_next, ot, a_next using the above formulas\n",
    "    ft = sigmoid(np.dot(Wf, concat) + bf)\n",
    "    ut = sigmoid(np.dot(Wu, concat) + bu)\n",
    "    cct = np.tanh(np.dot(Wc, concat) + bc)\n",
    "    c_next = ft * c_prev + ut * cct\n",
    "    ot = sigmoid(np.dot(Wo, concat) + bo)\n",
    "    a_next = ot * np.tanh(c_next)\n",
    "    \n",
    "    # compute prediction of the LSTM cell\n",
    "    yt_pred = softmax(np.dot(Wy, a_next) + by)\n",
    "    \n",
    "    # store values needed for backward propagation in cache\n",
    "    cache = (a_next, c_next, a_prev, c_prev, ft, ut, cct, ot, xt, parameters)\n",
    "    \n",
    "    return a_next, c_next, yt_pred, cache"
   ]
  },
  {
   "cell_type": "code",
   "execution_count": 12,
   "metadata": {},
   "outputs": [
    {
     "name": "stdout",
     "output_type": "stream",
     "text": [
      "a_next[4] =  [-0.66408471  0.0036921   0.02088357  0.22834167 -0.85575339  0.00138482\n",
      "  0.76566531  0.34631421 -0.00215674  0.43827275]\n",
      "a_next.shape =  (5, 10)\n",
      "c_next[2] =  [ 0.63267805  1.00570849  0.35504474  0.20690913 -1.64566718  0.11832942\n",
      "  0.76449811 -0.0981561  -0.74348425 -0.26810932]\n",
      "c_next.shape =  (5, 10)\n",
      "yt[1] = [0.79913913 0.15986619 0.22412122 0.15606108 0.97057211 0.31146381\n",
      " 0.00943007 0.12666353 0.39380172 0.07828381]\n",
      "yt.shape =  (2, 10)\n",
      "cache[1][3] = [-0.16263996  1.03729328  0.72938082 -0.54101719  0.02752074 -0.30821874\n",
      "  0.07651101 -1.03752894  1.41219977 -0.37647422]\n",
      "len(cache) =  10\n"
     ]
    }
   ],
   "source": [
    "np.random.seed(1)\n",
    "xt = np.random.randn(3,10)\n",
    "a_prev = np.random.randn(5,10)\n",
    "c_prev = np.random.randn(5,10)\n",
    "Wf = np.random.randn(5, 5+3)\n",
    "bf = np.random.randn(5,1)\n",
    "Wu = np.random.randn(5, 5+3)\n",
    "bu = np.random.randn(5,1)\n",
    "Wo = np.random.randn(5, 5+3)\n",
    "bo = np.random.randn(5,1)\n",
    "Wc = np.random.randn(5, 5+3)\n",
    "bc = np.random.randn(5,1)\n",
    "Wy = np.random.randn(2,5)\n",
    "by = np.random.randn(2,1)\n",
    "\n",
    "parameters = {\"Wf\": Wf, \"Wu\": Wu, \"Wo\": Wo, \"Wc\": Wc, \"Wy\": Wy, \"bf\": bf, \"bu\": bu, \"bo\": bo, \"bc\": bc, \"by\": by}\n",
    "\n",
    "a_next, c_next, yt, cache = lstm_cell_forward(xt, a_prev, c_prev, parameters)\n",
    "print(\"a_next[4] = \", a_next[4])\n",
    "print(\"a_next.shape = \", c_next.shape)\n",
    "print(\"c_next[2] = \", c_next[2])\n",
    "print(\"c_next.shape = \", c_next.shape)\n",
    "print(\"yt[1] =\", yt[1])\n",
    "print(\"yt.shape = \", yt.shape)\n",
    "print(\"cache[1][3] =\", cache[1][3])\n",
    "print(\"len(cache) = \", len(cache))"
   ]
  },
  {
   "cell_type": "markdown",
   "metadata": {},
   "source": [
    "### 2.2. Forward pass for LSTM"
   ]
  },
  {
   "cell_type": "code",
   "execution_count": null,
   "metadata": {},
   "outputs": [],
   "source": []
  },
  {
   "cell_type": "code",
   "execution_count": null,
   "metadata": {},
   "outputs": [],
   "source": []
  },
  {
   "cell_type": "code",
   "execution_count": null,
   "metadata": {},
   "outputs": [],
   "source": []
  }
 ],
 "metadata": {
  "kernelspec": {
   "display_name": "Python 3",
   "language": "python",
   "name": "python3"
  },
  "language_info": {
   "codemirror_mode": {
    "name": "ipython",
    "version": 3
   },
   "file_extension": ".py",
   "mimetype": "text/x-python",
   "name": "python",
   "nbconvert_exporter": "python",
   "pygments_lexer": "ipython3",
   "version": "3.6.7"
  }
 },
 "nbformat": 4,
 "nbformat_minor": 2
}
